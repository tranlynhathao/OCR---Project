{
 "cells": [
  {
   "cell_type": "code",
   "execution_count": null,
   "metadata": {
    "colab": {
     "base_uri": "https://localhost:8080/"
    },
    "id": "nTNfFD37QnWI",
    "is_executing": true,
    "outputId": "779f84b2-4712-4ada-c72b-6c7f295533aa",
    "ExecuteTime": {
     "start_time": "2023-12-22T16:51:56.908146Z"
    }
   },
   "outputs": [],
   "source": [
    "!pip install pytesseract\n",
    "!sudo apt install tesseract-ocr\n",
    "!pip install flask_ngrok\n",
    "!pip install pyngrok==4.1.1\n",
    "!pip install flask\n",
    "!ngrok authtoken 2ZkhqiwUOz4cU1OklNMQOrR2kxY_7ZMPbzwdkU5s65cRGHnWG"
   ]
  },
  {
   "cell_type": "markdown",
   "metadata": {
    "id": "qTmnx-O61baw"
   },
   "source": [
    "**The data resources in the following Google Drive link:**\n",
    "\n",
    "https://drive.google.com/drive/folders/16piPdvcTFXCnfko_jXwKN35r0trb0WQ7?usp=drive_link\n",
    "\n",
    "**After downloading the resources, you can upload them to your Google Drive and modify the access links below.**\n",
    "\n",
    "**You can simply download a single folder, which is the DataSet folder, as I have moved the templates folder into it.**\n",
    "\n",
    "https://drive.google.com/drive/folders/1oHKzBruv4DMe60Cx1GKHwlkMhGiEmEc9?usp=sharing\n"
   ]
  },
  {
   "cell_type": "code",
   "execution_count": null,
   "metadata": {
    "id": "ywdkc72JWFIW",
    "outputId": "1b71d23f-abbb-474e-9994-cb713e907742",
    "colab": {
     "base_uri": "https://localhost:8080/"
    },
    "is_executing": true,
    "ExecuteTime": {
     "start_time": "2023-12-22T16:51:56.908706Z"
    }
   },
   "outputs": [],
   "source": [
    "from google.colab import drive\n",
    "drive.mount('/content/drive', force_remount=True)"
   ]
  },
  {
   "cell_type": "code",
   "source": [
    "cd drive/MyDrive/DataSet/"
   ],
   "metadata": {
    "colab": {
     "base_uri": "https://localhost:8080/"
    },
    "id": "zijPaeWSTvju",
    "outputId": "8219282c-5ed4-4e67-bba5-306ebc2372bb",
    "is_executing": true,
    "ExecuteTime": {
     "start_time": "2023-12-22T16:51:56.909412Z"
    }
   },
   "execution_count": null,
   "outputs": []
  },
  {
   "cell_type": "code",
   "execution_count": null,
   "metadata": {
    "id": "0JnlRaezWJUp",
    "is_executing": true,
    "ExecuteTime": {
     "start_time": "2023-12-22T16:51:56.909736Z"
    }
   },
   "outputs": [],
   "source": [
    "import os\n",
    "import numpy as np\n",
    "import cv2\n",
    "import matplotlib.pyplot as plt\n",
    "import tensorflow as tf\n",
    "from tensorflow.keras.preprocessing.image import load_img, img_to_array\n",
    "import pytesseract as pt\n",
    "\n",
    "model = tf.keras.models.load_model(\n",
    "    'my_model.keras')\n",
    "\n",
    "def object_detection(path, filename):\n",
    "    # Read image\n",
    "    image = load_img(path)  # PIL object\n",
    "    image = np.array(image, dtype=np.uint8)  # 8 bit array (0,255)\n",
    "    image1 = load_img(path, target_size=(224, 224))\n",
    "    # Data preprocessing\n",
    "    # Convert into array and get the normalized output\n",
    "    image_arr_224 = img_to_array(image1)/255.0\n",
    "    h, w, d = image.shape\n",
    "    test_arr = image_arr_224.reshape(1, 224, 224, 3)\n",
    "    # Make predictions\n",
    "    coords = model.predict(test_arr)\n",
    "    # Denormalize the values\n",
    "    denorm = np.array([w, w, h, h])\n",
    "    coords = coords * denorm\n",
    "    coords = coords.astype(np.int32)\n",
    "    # Draw bounding on top the image\n",
    "    xmin, xmax, ymin, ymax = coords[0]\n",
    "    pt1 = (xmin, ymin)\n",
    "    pt2 = (xmax, ymax)\n",
    "    print(pt1, pt2)\n",
    "    cv2.rectangle(image, pt1, pt2, (0, 255, 0), 3)\n",
    "    # Convert into bgr\n",
    "    image_bgr = cv2.cvtColor(image, cv2.COLOR_RGB2BGR)\n",
    "    cv2.imwrite(\n",
    "        'static/predict/{}'.format(filename), image_bgr)\n",
    "    return coords\n",
    "\n",
    "\n",
    "def save_text(filename, text):\n",
    "    name, ext = os.path.splitext(filename)\n",
    "    with open('static/predict/{}.txt'.format(name), mode='w') as f:\n",
    "        f.write(text)\n",
    "    f.close()\n",
    "\n",
    "\n",
    "def OCR(path, filename):\n",
    "    img = np.array(load_img(path))\n",
    "    cods = object_detection(path, filename)\n",
    "    xmin, xmax, ymin, ymax = cods[0]\n",
    "    roi = img[ymin:ymax, xmin:xmax]\n",
    "    roi_bgr = cv2.cvtColor(roi, cv2.COLOR_RGB2BGR)\n",
    "    gray = cv2.cvtColor(roi_bgr, cv2.COLOR_BGR2GRAY)\n",
    "    magic_color = apply_brightness_contrast(gray, brightness=40, contrast=70)\n",
    "    cv2.imwrite(\n",
    "        'static/roi/{}'.format(filename), roi_bgr)\n",
    "\n",
    "    text = pt.image_to_string(magic_color, lang='eng', config='--psm 6')\n",
    "    print(text)\n",
    "    save_text(filename, text)\n",
    "    return text\n",
    "\n",
    "\n",
    "def apply_brightness_contrast(input_img, brightness=0, contrast=0):\n",
    "\n",
    "    if brightness != 0:\n",
    "        if brightness > 0:\n",
    "            shadow = brightness\n",
    "            highlight = 255\n",
    "        else:\n",
    "            shadow = 0\n",
    "            highlight = 255 + brightness\n",
    "        alpha_b = (highlight - shadow)/255\n",
    "        gamma_b = shadow\n",
    "\n",
    "        buf = cv2.addWeighted(input_img, alpha_b, input_img, 0, gamma_b)\n",
    "    else:\n",
    "        buf = input_img.copy()\n",
    "\n",
    "    if contrast != 0:\n",
    "        f = 131*(contrast + 127)/(127*(131-contrast))\n",
    "        alpha_c = f\n",
    "        gamma_c = 127*(1-f)\n",
    "\n",
    "        buf = cv2.addWeighted(buf, alpha_c, buf, 0, gamma_c)\n",
    "\n",
    "    return buf"
   ]
  },
  {
   "cell_type": "code",
   "execution_count": null,
   "metadata": {
    "id": "w2ApHzwbWTM8",
    "colab": {
     "base_uri": "https://localhost:8080/"
    },
    "outputId": "65ec3d8f-d55f-40db-c1bd-0d3c9abe0b55",
    "is_executing": true,
    "ExecuteTime": {
     "start_time": "2023-12-22T16:51:56.910044Z"
    }
   },
   "outputs": [],
   "source": [
    "from flask import Flask, render_template, request\n",
    "import os\n",
    "from flask.templating import render_template\n",
    "from flask import Flask\n",
    "from flask_ngrok import run_with_ngrok\n",
    "# webserver gateway interface\n",
    "\n",
    "template_folder = 'templates'\n",
    "\n",
    "app = Flask (__name__,template_folder=template_folder)\n",
    "run_with_ngrok(app)\n",
    "BASE_PATH = os.getcwd()\n",
    "UPLOAD_PATH = os.path.join(\n",
    "    BASE_PATH, 'static/upload')\n",
    "\n",
    "@app.route('/', methods=['POST', 'GET'])\n",
    "def index():\n",
    "    if request.method == 'POST':\n",
    "        upload_file = request.files['image_name']\n",
    "        filename = upload_file.filename\n",
    "        path_save = os.path.join(UPLOAD_PATH, filename)\n",
    "        upload_file.save(path_save)\n",
    "        text = OCR(path_save, filename)\n",
    "\n",
    "        return render_template('index.html', upload=True, upload_image=filename, text=text)\n",
    "\n",
    "    return render_template('index.html', upload=False)\n",
    "\n",
    "\n",
    "if __name__ == \"__main__\":\n",
    "    app.run()"
   ]
  },
  {
   "cell_type": "markdown",
   "metadata": {
    "id": "0gd6TXiW3CV1"
   },
   "source": [
    "Wish you success!\n",
    "\n",
    "You can contact us through the following page:\n",
    "https://www.facebook.com/profile.php?id=61553258528007"
   ]
  }
 ],
 "metadata": {
  "accelerator": "GPU",
  "colab": {
   "provenance": []
  },
  "kernelspec": {
   "display_name": "Python 3 (ipykernel)",
   "language": "python",
   "name": "python3"
  },
  "language_info": {
   "name": "python",
   "version": "3.12.1"
  }
 },
 "nbformat": 4,
 "nbformat_minor": 0
}
